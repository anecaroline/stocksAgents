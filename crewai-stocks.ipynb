{
 "cells": [
  {
   "cell_type": "code",
   "execution_count": 28,
   "metadata": {},
   "outputs": [],
   "source": [
    "# !pip install langchain_openai\n",
    "# pip install langchain_community\n",
    "\n",
    "# yfinance==0.2.41\n",
    "# crewai==0.28.8\n",
    "# langchain==0.1.20\n",
    "# langchain-openai==0.1.7\n",
    "# langchain-community==0.0.38\n",
    "# duckduckgo-search==5.3.0"
   ]
  },
  {
   "cell_type": "code",
   "execution_count": 30,
   "metadata": {},
   "outputs": [],
   "source": [
    "import json\n",
    "import os\n",
    "from datetime import datetime\n",
    "\n",
    "import yfinance as yf\n",
    "\n",
    "from crewai import Agent,Task,Crew,Process\n",
    "\n",
    "from langchain.tools import Tool\n",
    "from langchain_openai import ChatOpenAI\n",
    "\n",
    "from langchain_community.tools import DuckDuckGoSearchResults\n",
    "\n",
    "from IPython.display import Markdown\n",
    "\n",
    "import streamlit as st"
   ]
  },
  {
   "cell_type": "code",
   "execution_count": 31,
   "metadata": {},
   "outputs": [],
   "source": [
    "#criando Yahool finance Tool\n",
    "def fetch_stock_price(ticket):\n",
    "    stock=yf.download(ticket,start=\"2023-08-08\",end=\"2024-08-08\")\n",
    "    return stock\n",
    "\n",
    "yahool_finance_tool=Tool(\n",
    "    name = \"Yahoo Finance Tool\",\n",
    "    description = \"Fetches stocks prices for {ticket} from the last year about a specific company from Yahoo Finance API\",\n",
    "    func=lambda ticket: fetch_stock_price(ticket)\n",
    ")"
   ]
  },
  {
   "cell_type": "code",
   "execution_count": 32,
   "metadata": {},
   "outputs": [],
   "source": [
    "# response = yahool_finance_tool.run(\"AAPL\")"
   ]
  },
  {
   "cell_type": "code",
   "execution_count": 33,
   "metadata": {},
   "outputs": [],
   "source": [
    "# print(response)"
   ]
  },
  {
   "cell_type": "code",
   "execution_count": 34,
   "metadata": {},
   "outputs": [],
   "source": [
    "#importando OPENAI LLM - GPT\n",
    "#criar conta para poder usar\n",
    "os.environ['OPENAI_API_KEY'] = st.secrets['OPENAI_API_KEY']\n",
    "llm = ChatOpenAI(model=\"gpt-3.5-turbo\")"
   ]
  },
  {
   "cell_type": "code",
   "execution_count": 35,
   "metadata": {},
   "outputs": [],
   "source": [
    "stockPriceAnalyst= Agent(\n",
    "    role=\"Senior stock price Analyst\",\n",
    "    goal=\"Find the {ticket} stock price and analyses trends\",\n",
    "    backstory=\"\"\"You're a highly experienced in analyzing the price of an specific stock\n",
    "    and make predictions about its future price\"\"\",\n",
    "    verbose=True,\n",
    "    llm = llm,\n",
    "    max_iter=5,\n",
    "    memory=True,\n",
    "    tools=[yahool_finance_tool],\n",
    "    allow_delegation = False,\n",
    ")"
   ]
  },
  {
   "cell_type": "code",
   "execution_count": 37,
   "metadata": {},
   "outputs": [],
   "source": [
    "getStockPrice = Task(\n",
    "    description= \"Analyze the stock {ticket} price history and create a trend analyses of up, down or sideways\",\n",
    "    expected_output = \"\"\"\" Specify the current trend stock price - up, down or sideways. \n",
    "    eg. stock= 'APPL, price UP'\n",
    "\"\"\",\n",
    "    agent= stockPriceAnalyst\n",
    ")"
   ]
  },
  {
   "cell_type": "code",
   "execution_count": 38,
   "metadata": {},
   "outputs": [],
   "source": [
    "#importando a tool de search\n",
    "search_tool = DuckDuckGoSearchResults(backend='news',num_results=10)"
   ]
  },
  {
   "cell_type": "code",
   "execution_count": 39,
   "metadata": {},
   "outputs": [],
   "source": [
    "newsAnalyst = Agent(\n",
    "    role=\"Stock News Analyst\",\n",
    "    goal=\"\"\"Create a short summary of the market newa to the stock {ticket} company.Specify the current trend-up,down or sideways withs the news context.\n",
    "    For each request stock asset,specify a number between 0 and 100,where 0 is extreme fear and 100 is extreme greed.\"\"\",\n",
    "    backstory=\"\"\"You're experienced in analyzing the market trends and news and have traked assest for more then 10 years.\n",
    "\n",
    "    You're also master leves analyts in the tradicional markets and have deep understanding of human psychology.\n",
    "\n",
    "    you understand news,their titles and information,but you look at those with a health dose of skepticism.\n",
    "    \"\"\",\n",
    "    verbose=True,\n",
    "    llm = llm,\n",
    "    max_iter=5,\n",
    "    memory=True,\n",
    "    tools=[search_tool],\n",
    "    allow_delegation = True,\n",
    ")"
   ]
  },
  {
   "cell_type": "code",
   "execution_count": 41,
   "metadata": {},
   "outputs": [],
   "source": [
    "get_news = Task(\n",
    "    description= f\"\"\"Take the stock and always include BTC to it (if not request).\n",
    "    Use the search tool to search each one individually. \n",
    "\n",
    "    The current date is {datetime.now()}.\n",
    "\n",
    "    Compose the results into a helpfull report\"\"\",\n",
    "    expected_output = \"\"\"\"A summary of the overall market and one sentence summary for each request asset. \n",
    "    Include a fear/greed score for each asset based on the news. Use format:\n",
    "    <STOCK ASSET>\n",
    "    <SUMMARY BASED ON NEWS>\n",
    "    <TREND PREDICTION>\n",
    "    <FEAR/GREED SCORE>\n",
    "\"\"\",\n",
    "    agent= newsAnalyst\n",
    ")"
   ]
  },
  {
   "cell_type": "code",
   "execution_count": 45,
   "metadata": {},
   "outputs": [],
   "source": [
    "stockAnalystWrite = Agent(\n",
    "    role = \"Senior Stock Analyts Writer\",\n",
    "    goal= \"\"\"\"Analyze the trends price and news and write an insighfull compelling and informative 3 paragraph long newsletter based on the stock report and price trend. \"\"\",\n",
    "    backstory= \"\"\"You're widely accepted as the best stock analyst in the market. You understand complex concepts and create compelling stories\n",
    "    and narratives that resonate with wider audiences. \n",
    "\n",
    "    You understand macro factors and combine multiple theories - eg. cycle theory and fundamental analyses. \n",
    "    You're able to hold multiple opinions when analyzing anything.\n",
    "\"\"\",\n",
    "    verbose = True,\n",
    "    llm=llm,\n",
    "    max_iter = 5,\n",
    "    memory=True,\n",
    "    allow_delegation = True\n",
    ")"
   ]
  },
  {
   "cell_type": "code",
   "execution_count": 46,
   "metadata": {},
   "outputs": [],
   "source": [
    "writeAnalyses = Task(\n",
    "    description = \"\"\"Use the stock price trend and the stock news report to create an analyses and write the newsletter about the {ticket} company\n",
    "    that is brief and highlights the most important points.\n",
    "    Focus on the stock price trend, news and fear/great score.What are the near future considerations?\n",
    "    Include the previous analyses pf stock trend and news summary\"\"\",\n",
    "    expected_output=\"\"\"An eloquent 3 paragraphs nwesletter formated as markdow in an easy readable manner.It should contain:\n",
    "    - 3 bullets executive summary\n",
    "    - introduction -set the overall picture and spike up the interest\n",
    "    - man part provides the meat of the analysis includinf the news summary and fead/great scores\n",
    "    - summary - key facts and concrete future trend prediction - up,down or sideways.\n",
    "\n",
    "    \"\"\",\n",
    "    agent = stockAnalystWrite,\n",
    "    context = [getStockPrice,get_news]\n",
    "\n",
    ")"
   ]
  },
  {
   "cell_type": "code",
   "execution_count": 48,
   "metadata": {},
   "outputs": [],
   "source": [
    "crew = Crew(\n",
    "    agents = [stockPriceAnalyst, newsAnalyst, stockAnalystWrite],\n",
    "    tasks = [getStockPrice, get_news, writeAnalyses],\n",
    "    verbose = True,\n",
    "    process= Process.hierarchical,\n",
    "    full_output=True,\n",
    "    share_crew=False,\n",
    "    manager_llm=llm,\n",
    "    max_iter=15\n",
    ")"
   ]
  },
  {
   "cell_type": "code",
   "execution_count": 49,
   "metadata": {},
   "outputs": [
    {
     "name": "stdout",
     "output_type": "stream",
     "text": [
      "\u001b[1m\u001b[95m [2024-08-20 18:05:34][DEBUG]: == Working Agent: Crew Manager\u001b[00m\n",
      "\u001b[1m\u001b[95m [2024-08-20 18:05:34][INFO]: == Starting Task: Analyze the stock AAPL price history and create a trend analyses of up, down or sideways\u001b[00m\n",
      "\n",
      "\n",
      "\u001b[1m> Entering new CrewAgentExecutor chain...\u001b[0m\n",
      "\u001b[32;1m\u001b[1;3m\u001b[0m\n",
      "\n",
      "\u001b[1m> Finished chain.\u001b[0m\n",
      "\u001b[1m\u001b[92m [2024-08-20 18:07:06][DEBUG]: == [Crew Manager] Task output: Agent stopped due to iteration limit or time limit.\n",
      "\n",
      "\u001b[00m\n",
      "\u001b[1m\u001b[95m [2024-08-20 18:07:06][DEBUG]: == Working Agent: Crew Manager\u001b[00m\n",
      "\u001b[1m\u001b[95m [2024-08-20 18:07:06][INFO]: == Starting Task: Take the stock and always include BTC to it (if not request).\n",
      "    Use the search tool to search each one individually. \n",
      "\n",
      "    The current date is 2024-08-20 18:01:27.364806.\n",
      "\n",
      "    Compose the results into a helpfull report\u001b[00m\n",
      "\n",
      "\n",
      "\u001b[1m> Entering new CrewAgentExecutor chain...\u001b[0m\n",
      "\u001b[32;1m\u001b[1;3m\u001b[0m\n",
      "\n",
      "\u001b[1m> Finished chain.\u001b[0m\n",
      "\u001b[1m\u001b[92m [2024-08-20 18:08:33][DEBUG]: == [Crew Manager] Task output: Agent stopped due to iteration limit or time limit.\n",
      "\n",
      "\u001b[00m\n",
      "\u001b[1m\u001b[95m [2024-08-20 18:08:33][DEBUG]: == Working Agent: Crew Manager\u001b[00m\n",
      "\u001b[1m\u001b[95m [2024-08-20 18:08:33][INFO]: == Starting Task: Use the stock price trend and the stock news report to create an analyses and write the newsletter about the AAPL company\n",
      "    that is brief and highlights the most important points.\n",
      "    Focus on the stock price trend, news and fear/great score.What are the near future considerations?\n",
      "    Include the previous analyses pf stock trend and news summary\u001b[00m\n",
      "\n",
      "\n",
      "\u001b[1m> Entering new CrewAgentExecutor chain...\u001b[0m\n",
      "\u001b[32;1m\u001b[1;3m\u001b[0m\n",
      "\n",
      "\u001b[1m> Finished chain.\u001b[0m\n",
      "\u001b[1m\u001b[92m [2024-08-20 18:09:58][DEBUG]: == [Crew Manager] Task output: Agent stopped due to iteration limit or time limit.\n",
      "\n",
      "\u001b[00m\n"
     ]
    }
   ],
   "source": [
    "results = crew.kickoff(inputs={'ticket':'AAPL'})"
   ]
  },
  {
   "cell_type": "code",
   "execution_count": 54,
   "metadata": {},
   "outputs": [
    {
     "name": "stdout",
     "output_type": "stream",
     "text": [
      "<class 'crewai.crews.crew_output.CrewOutput'>\n"
     ]
    }
   ],
   "source": [
    "print(type(results))"
   ]
  },
  {
   "cell_type": "code",
   "execution_count": 56,
   "metadata": {},
   "outputs": [
    {
     "name": "stdout",
     "output_type": "stream",
     "text": [
      "Raw Output: Agent stopped due to iteration limit or time limit.\n",
      "Tasks Output: [TaskOutput(description='Analyze the stock AAPL price history and create a trend analyses of up, down or sideways', summary='Analyze the stock AAPL price history and create a trend...', raw='Agent stopped due to iteration limit or time limit.', pydantic=None, json_dict=None, agent='Crew Manager', output_format=<OutputFormat.RAW: 'raw'>), TaskOutput(description='Take the stock and always include BTC to it (if not request).\\n    Use the search tool to search each one individually. \\n\\n    The current date is 2024-08-20 18:01:27.364806.\\n\\n    Compose the results into a helpfull report', summary='Take the stock and always include BTC to it (if...', raw='Agent stopped due to iteration limit or time limit.', pydantic=None, json_dict=None, agent='Crew Manager', output_format=<OutputFormat.RAW: 'raw'>), TaskOutput(description='Use the stock price trend and the stock news report to create an analyses and write the newsletter about the AAPL company\\n    that is brief and highlights the most important points.\\n    Focus on the stock price trend, news and fear/great score.What are the near future considerations?\\n    Include the previous analyses pf stock trend and news summary', summary='Use the stock price trend and the stock news report...', raw='Agent stopped due to iteration limit or time limit.', pydantic=None, json_dict=None, agent='Crew Manager', output_format=<OutputFormat.RAW: 'raw'>)]\n",
      "Token Usage: total_tokens=194275 prompt_tokens=194275 completion_tokens=0 successful_requests=0\n"
     ]
    }
   ],
   "source": [
    "# Accessing the crew output\n",
    "print(f\"Raw Output: {results.raw}\")\n",
    "if results.json_dict:\n",
    "    print(f\"JSON Output: {json.dumps(results.json_dict, indent=2)}\")\n",
    "if results.pydantic:\n",
    "    print(f\"Pydantic Output: {results.pydantic}\")\n",
    "print(f\"Tasks Output: {results.tasks_output}\")\n",
    "print(f\"Token Usage: {results.token_usage}\")"
   ]
  },
  {
   "cell_type": "code",
   "execution_count": 60,
   "metadata": {},
   "outputs": [],
   "source": [
    "# list(results.keys())"
   ]
  },
  {
   "cell_type": "code",
   "execution_count": 61,
   "metadata": {},
   "outputs": [],
   "source": [
    "# results['final_outputs']"
   ]
  },
  {
   "cell_type": "code",
   "execution_count": 62,
   "metadata": {},
   "outputs": [],
   "source": [
    "# len(results['tasks_outputs'])"
   ]
  },
  {
   "cell_type": "code",
   "execution_count": 63,
   "metadata": {},
   "outputs": [],
   "source": [
    "# Markdown(results['final_output'])"
   ]
  }
 ],
 "metadata": {
  "kernelspec": {
   "display_name": "Python 3",
   "language": "python",
   "name": "python3"
  },
  "language_info": {
   "codemirror_mode": {
    "name": "ipython",
    "version": 3
   },
   "file_extension": ".py",
   "mimetype": "text/x-python",
   "name": "python",
   "nbconvert_exporter": "python",
   "pygments_lexer": "ipython3",
   "version": "3.11.3"
  }
 },
 "nbformat": 4,
 "nbformat_minor": 2
}
